{
 "cells": [
  {
   "cell_type": "markdown",
   "metadata": {},
   "source": [
    "# Assignment 2"
   ]
  },
  {
   "cell_type": "raw",
   "metadata": {},
   "source": [
    "1) Create the below pattern using nested for loop in Python. \n",
    "\n",
    " *\n",
    " * *\n",
    " * * *\n",
    " * * * *\n",
    " * * * * *\n",
    " * * * *\n",
    " * * *\n",
    " * * \n",
    " *"
   ]
  },
  {
   "cell_type": "code",
   "execution_count": 1,
   "metadata": {},
   "outputs": [
    {
     "name": "stdout",
     "output_type": "stream",
     "text": [
      "Enter the number of columns you need in pattern : 5\n",
      "\n",
      "***********Pattern with 5 column is ***********\n",
      "\n",
      " *\n",
      " * *\n",
      " * * *\n",
      " * * * *\n",
      " * * * * *\n",
      " * * * *\n",
      " * * *\n",
      " * *\n",
      " *\n"
     ]
    }
   ],
   "source": [
    "# To make this code more genergic we can take input from User \n",
    "def Pattern(x):\n",
    "    for i in range(1,x+1):\n",
    "        print(\" *\"*i)\n",
    "    for j in range(x-1,0,-1):\n",
    "        print(\" *\"*j)\n",
    "Columns=int(input(\"Enter the number of columns you need in pattern : \"))\n",
    "print(\"\\n***********Pattern with {} column is ***********\\n\".format(Columns))\n",
    "Pattern(Columns)"
   ]
  },
  {
   "cell_type": "markdown",
   "metadata": {},
   "source": [
    "2)Write a Python program to reverse a word after accepting the input from the user.\n",
    "\n",
    "Sample Output:\n",
    "\n",
    "Input word: Ineuron\n",
    "\n",
    "\n",
    "Output: noruenI"
   ]
  },
  {
   "cell_type": "code",
   "execution_count": 8,
   "metadata": {},
   "outputs": [
    {
     "name": "stdout",
     "output_type": "stream",
     "text": [
      "Please enter any word : Karan\n",
      "\n",
      "Original Word :  Karan\n",
      "\n",
      "******Reversed Word***** : \n",
      " naraK\n"
     ]
    }
   ],
   "source": [
    "def Reverse_word():\n",
    "    word=input(\"Please enter any word : \")\n",
    "    reversed_word=word[::-1]\n",
    "    print(\"\\nOriginal Word : \",word)\n",
    "    print(\"\\n******Reversed Word***** : \\n\",reversed_word)\n",
    "Reverse_word()"
   ]
  },
  {
   "cell_type": "markdown",
   "metadata": {},
   "source": [
    "3) Write a program which accepts a sequence of comma-separated numbers from console and generate a list."
   ]
  },
  {
   "cell_type": "code",
   "execution_count": 5,
   "metadata": {},
   "outputs": [
    {
     "name": "stdout",
     "output_type": "stream",
     "text": [
      "\n",
      "********Please Ener comma-sapareted numbers *********\n",
      "1,2,3,4,5,6,\n",
      "\n",
      "*******converted list *********\n",
      " ['1', '2', '3', '4', '5', '6', '']\n"
     ]
    }
   ],
   "source": [
    "def Generate_list():\n",
    "    sequence=input(\"\\n********Please Ener comma-sapareted numbers *********\\n\")\n",
    "    lst=sequence.split(',')\n",
    "    print(\"\\n*******converted list *********\\n\",lst)\n",
    "Generate_list()"
   ]
  },
  {
   "cell_type": "code",
   "execution_count": null,
   "metadata": {},
   "outputs": [],
   "source": []
  }
 ],
 "metadata": {
  "kernelspec": {
   "display_name": "Python 3",
   "language": "python",
   "name": "python3"
  },
  "language_info": {
   "codemirror_mode": {
    "name": "ipython",
    "version": 3
   },
   "file_extension": ".py",
   "mimetype": "text/x-python",
   "name": "python",
   "nbconvert_exporter": "python",
   "pygments_lexer": "ipython3",
   "version": "3.7.4"
  }
 },
 "nbformat": 4,
 "nbformat_minor": 2
}
